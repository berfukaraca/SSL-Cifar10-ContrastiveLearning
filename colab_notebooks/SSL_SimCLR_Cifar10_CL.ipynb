{
  "nbformat": 4,
  "nbformat_minor": 0,
  "metadata": {
    "colab": {
      "provenance": []
    },
    "kernelspec": {
      "name": "python3",
      "display_name": "Python 3"
    },
    "language_info": {
      "name": "python"
    },
    "accelerator": "GPU",
    "gpuClass": "standard",
    "widgets": {
      "application/vnd.jupyter.widget-state+json": {
        "4fbaf6d539f045249d12f3e465534d4f": {
          "model_module": "@jupyter-widgets/controls",
          "model_name": "HBoxModel",
          "model_module_version": "1.5.0",
          "state": {
            "_dom_classes": [],
            "_model_module": "@jupyter-widgets/controls",
            "_model_module_version": "1.5.0",
            "_model_name": "HBoxModel",
            "_view_count": null,
            "_view_module": "@jupyter-widgets/controls",
            "_view_module_version": "1.5.0",
            "_view_name": "HBoxView",
            "box_style": "",
            "children": [
              "IPY_MODEL_71c2733f5cac4b34aec139920b2276bb",
              "IPY_MODEL_0472bea112604ce38fae9eb0dd8c7016",
              "IPY_MODEL_d936face0d2342fd80ebdf02d66a4b38"
            ],
            "layout": "IPY_MODEL_35b6e8cea90747eab7a2bd5996bdd73b"
          }
        },
        "71c2733f5cac4b34aec139920b2276bb": {
          "model_module": "@jupyter-widgets/controls",
          "model_name": "HTMLModel",
          "model_module_version": "1.5.0",
          "state": {
            "_dom_classes": [],
            "_model_module": "@jupyter-widgets/controls",
            "_model_module_version": "1.5.0",
            "_model_name": "HTMLModel",
            "_view_count": null,
            "_view_module": "@jupyter-widgets/controls",
            "_view_module_version": "1.5.0",
            "_view_name": "HTMLView",
            "description": "",
            "description_tooltip": null,
            "layout": "IPY_MODEL_cdd363f97f044c55afa07cb805aa674d",
            "placeholder": "​",
            "style": "IPY_MODEL_1005bf7a75a841fbbb94c2909bcea09d",
            "value": "100%"
          }
        },
        "0472bea112604ce38fae9eb0dd8c7016": {
          "model_module": "@jupyter-widgets/controls",
          "model_name": "FloatProgressModel",
          "model_module_version": "1.5.0",
          "state": {
            "_dom_classes": [],
            "_model_module": "@jupyter-widgets/controls",
            "_model_module_version": "1.5.0",
            "_model_name": "FloatProgressModel",
            "_view_count": null,
            "_view_module": "@jupyter-widgets/controls",
            "_view_module_version": "1.5.0",
            "_view_name": "ProgressView",
            "bar_style": "success",
            "description": "",
            "description_tooltip": null,
            "layout": "IPY_MODEL_e4931b58bb4b4a3f8260a455dd292074",
            "max": 170498071,
            "min": 0,
            "orientation": "horizontal",
            "style": "IPY_MODEL_3346ed3347af4c8e91a73f7946e7cbfa",
            "value": 170498071
          }
        },
        "d936face0d2342fd80ebdf02d66a4b38": {
          "model_module": "@jupyter-widgets/controls",
          "model_name": "HTMLModel",
          "model_module_version": "1.5.0",
          "state": {
            "_dom_classes": [],
            "_model_module": "@jupyter-widgets/controls",
            "_model_module_version": "1.5.0",
            "_model_name": "HTMLModel",
            "_view_count": null,
            "_view_module": "@jupyter-widgets/controls",
            "_view_module_version": "1.5.0",
            "_view_name": "HTMLView",
            "description": "",
            "description_tooltip": null,
            "layout": "IPY_MODEL_b941dab936f64c74a11ca99cd0bce267",
            "placeholder": "​",
            "style": "IPY_MODEL_0ef8906a788f4b9a917bfd89347dc6e0",
            "value": " 170498071/170498071 [00:04&lt;00:00, 46648320.99it/s]"
          }
        },
        "35b6e8cea90747eab7a2bd5996bdd73b": {
          "model_module": "@jupyter-widgets/base",
          "model_name": "LayoutModel",
          "model_module_version": "1.2.0",
          "state": {
            "_model_module": "@jupyter-widgets/base",
            "_model_module_version": "1.2.0",
            "_model_name": "LayoutModel",
            "_view_count": null,
            "_view_module": "@jupyter-widgets/base",
            "_view_module_version": "1.2.0",
            "_view_name": "LayoutView",
            "align_content": null,
            "align_items": null,
            "align_self": null,
            "border": null,
            "bottom": null,
            "display": null,
            "flex": null,
            "flex_flow": null,
            "grid_area": null,
            "grid_auto_columns": null,
            "grid_auto_flow": null,
            "grid_auto_rows": null,
            "grid_column": null,
            "grid_gap": null,
            "grid_row": null,
            "grid_template_areas": null,
            "grid_template_columns": null,
            "grid_template_rows": null,
            "height": null,
            "justify_content": null,
            "justify_items": null,
            "left": null,
            "margin": null,
            "max_height": null,
            "max_width": null,
            "min_height": null,
            "min_width": null,
            "object_fit": null,
            "object_position": null,
            "order": null,
            "overflow": null,
            "overflow_x": null,
            "overflow_y": null,
            "padding": null,
            "right": null,
            "top": null,
            "visibility": null,
            "width": null
          }
        },
        "cdd363f97f044c55afa07cb805aa674d": {
          "model_module": "@jupyter-widgets/base",
          "model_name": "LayoutModel",
          "model_module_version": "1.2.0",
          "state": {
            "_model_module": "@jupyter-widgets/base",
            "_model_module_version": "1.2.0",
            "_model_name": "LayoutModel",
            "_view_count": null,
            "_view_module": "@jupyter-widgets/base",
            "_view_module_version": "1.2.0",
            "_view_name": "LayoutView",
            "align_content": null,
            "align_items": null,
            "align_self": null,
            "border": null,
            "bottom": null,
            "display": null,
            "flex": null,
            "flex_flow": null,
            "grid_area": null,
            "grid_auto_columns": null,
            "grid_auto_flow": null,
            "grid_auto_rows": null,
            "grid_column": null,
            "grid_gap": null,
            "grid_row": null,
            "grid_template_areas": null,
            "grid_template_columns": null,
            "grid_template_rows": null,
            "height": null,
            "justify_content": null,
            "justify_items": null,
            "left": null,
            "margin": null,
            "max_height": null,
            "max_width": null,
            "min_height": null,
            "min_width": null,
            "object_fit": null,
            "object_position": null,
            "order": null,
            "overflow": null,
            "overflow_x": null,
            "overflow_y": null,
            "padding": null,
            "right": null,
            "top": null,
            "visibility": null,
            "width": null
          }
        },
        "1005bf7a75a841fbbb94c2909bcea09d": {
          "model_module": "@jupyter-widgets/controls",
          "model_name": "DescriptionStyleModel",
          "model_module_version": "1.5.0",
          "state": {
            "_model_module": "@jupyter-widgets/controls",
            "_model_module_version": "1.5.0",
            "_model_name": "DescriptionStyleModel",
            "_view_count": null,
            "_view_module": "@jupyter-widgets/base",
            "_view_module_version": "1.2.0",
            "_view_name": "StyleView",
            "description_width": ""
          }
        },
        "e4931b58bb4b4a3f8260a455dd292074": {
          "model_module": "@jupyter-widgets/base",
          "model_name": "LayoutModel",
          "model_module_version": "1.2.0",
          "state": {
            "_model_module": "@jupyter-widgets/base",
            "_model_module_version": "1.2.0",
            "_model_name": "LayoutModel",
            "_view_count": null,
            "_view_module": "@jupyter-widgets/base",
            "_view_module_version": "1.2.0",
            "_view_name": "LayoutView",
            "align_content": null,
            "align_items": null,
            "align_self": null,
            "border": null,
            "bottom": null,
            "display": null,
            "flex": null,
            "flex_flow": null,
            "grid_area": null,
            "grid_auto_columns": null,
            "grid_auto_flow": null,
            "grid_auto_rows": null,
            "grid_column": null,
            "grid_gap": null,
            "grid_row": null,
            "grid_template_areas": null,
            "grid_template_columns": null,
            "grid_template_rows": null,
            "height": null,
            "justify_content": null,
            "justify_items": null,
            "left": null,
            "margin": null,
            "max_height": null,
            "max_width": null,
            "min_height": null,
            "min_width": null,
            "object_fit": null,
            "object_position": null,
            "order": null,
            "overflow": null,
            "overflow_x": null,
            "overflow_y": null,
            "padding": null,
            "right": null,
            "top": null,
            "visibility": null,
            "width": null
          }
        },
        "3346ed3347af4c8e91a73f7946e7cbfa": {
          "model_module": "@jupyter-widgets/controls",
          "model_name": "ProgressStyleModel",
          "model_module_version": "1.5.0",
          "state": {
            "_model_module": "@jupyter-widgets/controls",
            "_model_module_version": "1.5.0",
            "_model_name": "ProgressStyleModel",
            "_view_count": null,
            "_view_module": "@jupyter-widgets/base",
            "_view_module_version": "1.2.0",
            "_view_name": "StyleView",
            "bar_color": null,
            "description_width": ""
          }
        },
        "b941dab936f64c74a11ca99cd0bce267": {
          "model_module": "@jupyter-widgets/base",
          "model_name": "LayoutModel",
          "model_module_version": "1.2.0",
          "state": {
            "_model_module": "@jupyter-widgets/base",
            "_model_module_version": "1.2.0",
            "_model_name": "LayoutModel",
            "_view_count": null,
            "_view_module": "@jupyter-widgets/base",
            "_view_module_version": "1.2.0",
            "_view_name": "LayoutView",
            "align_content": null,
            "align_items": null,
            "align_self": null,
            "border": null,
            "bottom": null,
            "display": null,
            "flex": null,
            "flex_flow": null,
            "grid_area": null,
            "grid_auto_columns": null,
            "grid_auto_flow": null,
            "grid_auto_rows": null,
            "grid_column": null,
            "grid_gap": null,
            "grid_row": null,
            "grid_template_areas": null,
            "grid_template_columns": null,
            "grid_template_rows": null,
            "height": null,
            "justify_content": null,
            "justify_items": null,
            "left": null,
            "margin": null,
            "max_height": null,
            "max_width": null,
            "min_height": null,
            "min_width": null,
            "object_fit": null,
            "object_position": null,
            "order": null,
            "overflow": null,
            "overflow_x": null,
            "overflow_y": null,
            "padding": null,
            "right": null,
            "top": null,
            "visibility": null,
            "width": null
          }
        },
        "0ef8906a788f4b9a917bfd89347dc6e0": {
          "model_module": "@jupyter-widgets/controls",
          "model_name": "DescriptionStyleModel",
          "model_module_version": "1.5.0",
          "state": {
            "_model_module": "@jupyter-widgets/controls",
            "_model_module_version": "1.5.0",
            "_model_name": "DescriptionStyleModel",
            "_view_count": null,
            "_view_module": "@jupyter-widgets/base",
            "_view_module_version": "1.2.0",
            "_view_name": "StyleView",
            "description_width": ""
          }
        }
      }
    }
  },
  "cells": [
    {
      "cell_type": "markdown",
      "source": [
        "A replication of SimCLR study on Cifar10 data. \n",
        "\n",
        "Network: ResNet50 \n",
        "\n",
        "Batch size: 256\n",
        "\n",
        "Optimizer: SGD\n",
        "\n",
        "Loss: NT-Xent loss\n",
        "\n",
        "lr: 0.3 * batch size/256 --> 0.3\n",
        "\n",
        "Training data: 10000 images (1000 image per class)\n",
        "\n",
        "Trained for 500 episodes"
      ],
      "metadata": {
        "id": "r8gmKK7APluc"
      }
    },
    {
      "cell_type": "code",
      "execution_count": null,
      "metadata": {
        "id": "iXESJ2O74nhU"
      },
      "outputs": [],
      "source": [
        "import torch\n",
        "import torchvision\n",
        "import torchvision.transforms as transforms\n",
        "import matplotlib.pyplot as plt\n",
        "import numpy as np\n",
        "import torch.nn.functional as F\n",
        "from torch.utils.data import random_split\n",
        "from torchvision.utils import make_grid\n",
        "import torch.nn as nn\n",
        "from torch.optim import lr_scheduler\n",
        "import copy\n",
        "import time\n",
        "import os\n",
        "import argparse\n",
        "from google.colab import files\n",
        "from resnet import *\n",
        "from torch.utils.data import Subset\n",
        "import csv"
      ]
    },
    {
      "cell_type": "code",
      "execution_count": null,
      "metadata": {
        "id": "sLMCEfSo2-Ta"
      },
      "outputs": [],
      "source": [
        "device = torch.device('cuda')"
      ]
    },
    {
      "cell_type": "code",
      "execution_count": null,
      "metadata": {
        "id": "kQ8srBZo2UsG"
      },
      "outputs": [],
      "source": [
        "class Augment_train(object):\n",
        "  def __init__(self,size):\n",
        "    s = 0.5 # jitter strength\n",
        "    size = 32\n",
        "    color_jitter = transforms.ColorJitter(0.8*s, 0.8*s, 0.8*s, 0.2*s)\n",
        "    \n",
        "    self.train_transforms = transforms.Compose([\n",
        "        transforms.RandomResizedCrop(size, scale=(0.08, 1.0), ratio=(0.75, 1.3333333333333333)),\n",
        "        transforms.RandomHorizontalFlip(p=0.5),\n",
        "        transforms.RandomApply([color_jitter], p=0.8), \n",
        "        transforms.RandomGrayscale(p=0.2),\n",
        "        transforms.ToTensor(),\n",
        "        transforms.Normalize((0.4914, 0.4822, 0.4465), (0.2023, 0.1994, 0.2010)),\n",
        "      ])\n",
        "  \n",
        "  def __call__(self,x):\n",
        "    transform = self.train_transforms\n",
        "\n",
        "    xi = transform(x)\n",
        "    xj = transform(x)\n",
        "    return xi, xj"
      ]
    },
    {
      "cell_type": "code",
      "execution_count": null,
      "metadata": {
        "id": "Pv-_UXDhJHIt"
      },
      "outputs": [],
      "source": [
        "class Augment_eval(object):\n",
        "  \n",
        "  def __init__(self, size):\n",
        "    size = 32\n",
        "    \n",
        "    self.eval_transforms = transforms.Compose([\n",
        "        transforms.Resize(size),\n",
        "        transforms.ToTensor(),\n",
        "        transforms.Normalize((0.4914, 0.4822, 0.4465), (0.2023, 0.1994, 0.2010))\n",
        "    ])\n",
        "\n",
        "    def __call__(self,x):\n",
        "      transform = self.eval_transforms\n",
        "      xi = transform(x)\n",
        "      xj = transform(x)\n",
        "\n",
        "      return xi,xj\n",
        "  "
      ]
    },
    {
      "cell_type": "code",
      "execution_count": null,
      "metadata": {
        "colab": {
          "base_uri": "https://localhost:8080/",
          "height": 85,
          "referenced_widgets": [
            "4fbaf6d539f045249d12f3e465534d4f",
            "71c2733f5cac4b34aec139920b2276bb",
            "0472bea112604ce38fae9eb0dd8c7016",
            "d936face0d2342fd80ebdf02d66a4b38",
            "35b6e8cea90747eab7a2bd5996bdd73b",
            "cdd363f97f044c55afa07cb805aa674d",
            "1005bf7a75a841fbbb94c2909bcea09d",
            "e4931b58bb4b4a3f8260a455dd292074",
            "3346ed3347af4c8e91a73f7946e7cbfa",
            "b941dab936f64c74a11ca99cd0bce267",
            "0ef8906a788f4b9a917bfd89347dc6e0"
          ]
        },
        "id": "RkJnMxNNRnVX",
        "outputId": "d691998c-fd4c-458c-dbc6-d44af3634405"
      },
      "outputs": [
        {
          "output_type": "stream",
          "name": "stdout",
          "text": [
            "Downloading https://www.cs.toronto.edu/~kriz/cifar-10-python.tar.gz to ./data/cifar-10-python.tar.gz\n"
          ]
        },
        {
          "output_type": "display_data",
          "data": {
            "text/plain": [
              "  0%|          | 0/170498071 [00:00<?, ?it/s]"
            ],
            "application/vnd.jupyter.widget-view+json": {
              "version_major": 2,
              "version_minor": 0,
              "model_id": "4fbaf6d539f045249d12f3e465534d4f"
            }
          },
          "metadata": {}
        },
        {
          "output_type": "stream",
          "name": "stdout",
          "text": [
            "Extracting ./data/cifar-10-python.tar.gz to ./data\n"
          ]
        }
      ],
      "source": [
        "dataset = torchvision.datasets.CIFAR10(\n",
        "      root='./data', train=True, download=True, transform= Augment_train(32))\n"
      ]
    },
    {
      "cell_type": "code",
      "execution_count": null,
      "metadata": {
        "colab": {
          "base_uri": "https://localhost:8080/"
        },
        "id": "glpwlRGRGa8S",
        "outputId": "929ecb8f-41b3-437f-aba6-572330b382d2"
      },
      "outputs": [
        {
          "output_type": "stream",
          "name": "stdout",
          "text": [
            "10000\n"
          ]
        }
      ],
      "source": [
        "# Create a subset with less data and equal distribution of classes \n",
        "\n",
        "with open('datalabel.txt', 'w',newline='') as csvfile:\n",
        "        writer = csv.writer(csvfile, delimiter=',',quotechar='|', quoting=csv.QUOTE_MINIMAL)\n",
        "        writer.writerow(['current_class','label'])\n",
        "\n",
        "def create_subset(ds):\n",
        "  \n",
        "  airplane_i, dog_i, deer_i, frog_i, cat_i, bird_i, horse_i, automobile_i, ship_i, truck_i = [], [], [], [], [],[],[],[],[],[]\n",
        "  dog_idx, deer_idx, airplane_idx, frog_idx, cat_idx, bird_idx, automobile_idx, ship_idx, truck_idx, horse_idx = ds.class_to_idx['dog'], ds.class_to_idx['deer'],ds.class_to_idx['airplane'],ds.class_to_idx['frog'],ds.class_to_idx['cat'],ds.class_to_idx['bird'],ds.class_to_idx['automobile'],ds.class_to_idx['ship'],ds.class_to_idx['truck'],ds.class_to_idx['horse']\n",
        "  label=[]\n",
        "  for i in range(len(ds)):\n",
        "    current_class = ds[i][1]\n",
        "    if current_class == dog_idx:\n",
        "      dog_i.append(i)\n",
        "      label='dog'\n",
        "    elif current_class == deer_idx:\n",
        "      deer_i.append(i)\n",
        "      label='deer'\n",
        "    elif current_class == airplane_idx:\n",
        "      airplane_i.append(i)\n",
        "      label='airplane'\n",
        "    elif current_class == frog_idx:\n",
        "      frog_i.append(i)\n",
        "      label='frog'\n",
        "    elif current_class == cat_idx:\n",
        "      cat_i.append(i)\n",
        "      label='cat'\n",
        "    elif current_class == bird_idx:\n",
        "      bird_i.append(i)\n",
        "      label='bird'\n",
        "    elif current_class == automobile_idx:\n",
        "      automobile_i.append(i)\n",
        "      label='automobile'\n",
        "    elif current_class == ship_idx:\n",
        "      ship_i.append(i)\n",
        "      label='ship'\n",
        "    elif current_class == truck_idx:\n",
        "      truck_i.append(i) \n",
        "      label='truck'\n",
        "    else:\n",
        "      horse_i.append(i)\n",
        "      label='horse'\n",
        "    with open('datalabel.txt', 'a', newline='') as csvfile:\n",
        "          writer = csv.writer(csvfile, delimiter=',', quotechar='|', quoting=csv.QUOTE_MINIMAL)\n",
        "          writer.writerow([current_class, label])\n",
        "\n",
        "  airplane_ui = airplane_i[:int(0.2 * len(airplane_i))]\n",
        "  dog_ui = dog_i[:int(0.2 * len(dog_i))]\n",
        "  deer_ui = deer_i[:int(0.2 * len(deer_i))]\n",
        "  frog_ui = frog_i[:int(0.2 * len(frog_i))]\n",
        "  cat_ui = cat_i[:int(0.2 * len(cat_i))]\n",
        "  bird_ui = bird_i[:int(0.2 * len(bird_i))]\n",
        "  horse_ui = horse_i[:int(0.2 * len(horse_i))]\n",
        "  automobile_ui = automobile_i[:int(0.2 * len(automobile_i))]\n",
        "  ship_ui = ship_i[:int(0.2 * len(ship_i))]\n",
        "  truck_ui = truck_i[:int(0.2 * len(truck_i))]\n",
        "\n",
        "  unlabelled_dataset = Subset(ds, airplane_ui+ dog_ui+ deer_ui+ frog_ui+ cat_ui+ bird_ui+ horse_ui+ automobile_ui+ ship_ui+ truck_ui)\n",
        "  \n",
        "  \n",
        "  return unlabelled_dataset\n",
        "# files.download('datalabel.txt')\n",
        "unlabelled_dataset = create_subset(dataset)\n",
        "print(len(unlabelled_dataset))"
      ]
    },
    {
      "cell_type": "code",
      "execution_count": null,
      "metadata": {
        "id": "1RamvQX1LPqi"
      },
      "outputs": [],
      "source": [
        "# find the index of a specific class with label \"x\"\n",
        "import pandas as pd\n",
        "stats = pd.read_csv('/content/datalabel.txt'.format('exp1'))\n",
        "in_f= stats.loc[stats.label=='frog']\n",
        "in_f.index"
      ]
    },
    {
      "cell_type": "code",
      "execution_count": null,
      "metadata": {
        "id": "Zjcw0_XLSIy_"
      },
      "outputs": [],
      "source": [
        "trainloader = torch.utils.data.DataLoader(\n",
        "    unlabelled_dataset, batch_size=256, shuffle=True, num_workers=2)"
      ]
    },
    {
      "cell_type": "code",
      "execution_count": null,
      "metadata": {
        "colab": {
          "base_uri": "https://localhost:8080/",
          "height": 52
        },
        "id": "CTUpzpAIQux0",
        "outputId": "0489b03f-e44f-425a-d7d0-c363dea4d54e"
      },
      "outputs": [
        {
          "data": {
            "text/plain": [
              "<Figure size 1152x1152 with 0 Axes>"
            ]
          },
          "execution_count": 22,
          "metadata": {},
          "output_type": "execute_result"
        },
        {
          "data": {
            "text/plain": [
              "<Figure size 1152x1152 with 0 Axes>"
            ]
          },
          "metadata": {},
          "output_type": "display_data"
        }
      ],
      "source": [
        "def imshow(img):\n",
        "    npimg = img.numpy()\n",
        "    plt.imshow(np.transpose(npimg, (1, 2, 0)))\n",
        "    plt.show()\n",
        "\n",
        "plt.figure(figsize=(16,16))"
      ]
    },
    {
      "cell_type": "code",
      "execution_count": null,
      "metadata": {
        "colab": {
          "base_uri": "https://localhost:8080/",
          "height": 571
        },
        "id": "QrKaw_VBnXJ-",
        "outputId": "ff5a52be-41ba-45a1-db87-df45a811b228"
      },
      "outputs": [
        {
          "name": "stderr",
          "output_type": "stream",
          "text": [
            "WARNING:matplotlib.image:Clipping input data to the valid range for imshow with RGB data ([0..1] for floats or [0..255] for integers).\n"
          ]
        },
        {
          "data": {
            "image/png": "[encoded data removed]",
            "text/plain": [
              "<Figure size 432x288 with 1 Axes>"
            ]
          },
          "metadata": {},
          "output_type": "display_data"
        },
        {
          "name": "stderr",
          "output_type": "stream",
          "text": [
            "WARNING:matplotlib.image:Clipping input data to the valid range for imshow with RGB data ([0..1] for floats or [0..255] for integers).\n"
          ]
        },
        {
          "data": {
            "image/png": "[encoded data removed]",
            "text/plain": [
              "<Figure size 432x288 with 1 Axes>"
            ]
          },
          "metadata": {},
          "output_type": "display_data"
        }
      ],
      "source": [
        "# visualize augmented images \n",
        "\n",
        "for images, labels in trainloader:\n",
        "    imshow(images[0][1])\n",
        "    imshow(images[1][1])\n",
        "    # print(images[1])\n",
        "    # print(classes[labels[1].item()])\n",
        "    # print()\n",
        "    break"
      ]
    },
    {
      "cell_type": "code",
      "execution_count": null,
      "metadata": {
        "colab": {
          "base_uri": "https://localhost:8080/",
          "height": 606
        },
        "id": "kEey3vZwCnMV",
        "outputId": "ca692b89-a731-4ab6-8a38-daae60d7a8b5"
      },
      "outputs": [
        {
          "name": "stderr",
          "output_type": "stream",
          "text": [
            "WARNING:matplotlib.image:Clipping input data to the valid range for imshow with RGB data ([0..1] for floats or [0..255] for integers).\n"
          ]
        },
        {
          "data": {
            "image/png": "[encoded data removed]",
            "text/plain": [
              "<Figure size 432x288 with 1 Axes>"
            ]
          },
          "metadata": {},
          "output_type": "display_data"
        },
        {
          "name": "stderr",
          "output_type": "stream",
          "text": [
            "WARNING:matplotlib.image:Clipping input data to the valid range for imshow with RGB data ([0..1] for floats or [0..255] for integers).\n"
          ]
        },
        {
          "data": {
            "image/png": "[encoded data removed]",
            "text/plain": [
              "<Figure size 432x288 with 1 Axes>"
            ]
          },
          "metadata": {},
          "output_type": "display_data"
        },
        {
          "name": "stdout",
          "output_type": "stream",
          "text": [
            "bird\n",
            "\n"
          ]
        }
      ],
      "source": [
        "for images, labels in trainloader:\n",
        "    imshow(images[0][1])\n",
        "    imshow(images[1][1])\n",
        "    # print(images[1])\n",
        "    print(classes[labels[1].item()])\n",
        "    print()\n",
        "    break"
      ]
    },
    {
      "cell_type": "code",
      "execution_count": null,
      "metadata": {
        "id": "CotkzqPDWWsZ"
      },
      "outputs": [],
      "source": [
        "class NTXent_L(nn.Module):\n",
        "  def __init__(self,batch_size,temperature=0.5):\n",
        "      super().__init__()\n",
        "      self.batch_size=batch_size\n",
        "      self.temperature = temperature\n",
        "      \n",
        "  def cosine_sim(self, output1,output2): #output1, output2 as 2 augmented versions of image;\n",
        "    o_con= torch.cat([output1,output2], dim=0)\n",
        "    return F.cosine_similarity(o_con.unsqueeze(1), o_con.unsqueeze(0), dim=2)\n",
        "  def forward(self, z_i, z_j):\n",
        "\n",
        "    batch_size= z_i.shape[0]\n",
        "\n",
        "    sim_m = self.cosine_sim(z_i,z_j)\n",
        "\n",
        "    sim_ij = torch.diag(sim_m,batch_size)\n",
        "    sim_ji = torch.diag(sim_m, -batch_size)\n",
        "   \n",
        "    sim_con= torch.cat([sim_ij, sim_ji],dim=0)\n",
        "    pos= torch.exp(sim_con/self.temperature)\n",
        "    mask = (~torch.eye(batch_size *2 ,batch_size*2, dtype=bool)).float()\n",
        "    neg= mask.to(device) *torch.exp(sim_m/self.temperature)\n",
        "    loss = torch.sum(-torch.log(pos/torch.sum(neg, dim=1))) / (2*self.batch_size)\n",
        "    \n",
        "    return loss"
      ]
    },
    {
      "cell_type": "code",
      "execution_count": null,
      "metadata": {
        "id": "4-SlIq_y5V8P"
      },
      "outputs": [],
      "source": [
        "criterion = NTXent_L(batch_size=256, temperature = 0.5)\n",
        "criterion = criterion.to(device)"
      ]
    },
    {
      "cell_type": "code",
      "execution_count": null,
      "metadata": {
        "id": "4STM67XOKw2H"
      },
      "outputs": [],
      "source": [
        "class Identity(nn.Module):\n",
        "    def __init__(self):\n",
        "        super(Identity, self).__init__()\n",
        "\n",
        "    def forward(self, x):\n",
        "        return x"
      ]
    },
    {
      "cell_type": "code",
      "execution_count": null,
      "metadata": {
        "id": "siwPNrNjMLEP"
      },
      "outputs": [],
      "source": [
        "class SimCLR_model(nn.Module):\n",
        "\n",
        "    def __init__(self, base_encoder, projection_dim, n_features):\n",
        "        super(SimCLR_model, self).__init__()\n",
        "\n",
        "        self.base_encoder = base_encoder\n",
        "        self.n_features = n_features\n",
        "        self.base_encoder.linear=nn.Linear(n_features, n_features)\n",
        "\n",
        "        self.base_encoder.fc = Identity()\n",
        "        self.projectionHead = nn.Sequential(\n",
        "            nn.Linear(self.n_features, self.n_features, bias=False),\n",
        "            nn.BatchNorm1d(self.n_features),\n",
        "            nn.ReLU(), #non-linearity\n",
        "            nn.Linear(self.n_features, projection_dim, bias=False),\n",
        "            nn.BatchNorm1d(projection_dim),\n",
        "        )\n",
        "\n",
        "    def forward(self, x_i, x_j):\n",
        "        h_i = self.base_encoder(x_i)\n",
        "        h_j = self.base_encoder(x_j)\n",
        "\n",
        "        z_i = self.projectionHead(h_i)\n",
        "        z_j = self.projectionHead(h_j)\n",
        "       \n",
        "        return h_i, h_j, z_i, z_j"
      ]
    },
    {
      "cell_type": "code",
      "execution_count": null,
      "metadata": {
        "id": "mgEyTG9iOKko"
      },
      "outputs": [],
      "source": [
        "base_encoder = ResNet50()\n",
        "\n",
        "projection_dim=128\n",
        "\n",
        "n_features= base_encoder.linear.in_features\n",
        "net= SimCLR_model(base_encoder, projection_dim, n_features)\n",
        "net= net.to(device)\n",
        "#net"
      ]
    },
    {
      "cell_type": "code",
      "source": [
        "from google.colab import drive\n",
        "drive.mount('/content/gdrive')"
      ],
      "metadata": {
        "colab": {
          "base_uri": "https://localhost:8080/"
        },
        "id": "dMqYNOErJRlr",
        "outputId": "3ea53c75-c7f0-4a52-dd08-204dc3f425e7"
      },
      "execution_count": null,
      "outputs": [
        {
          "output_type": "stream",
          "name": "stdout",
          "text": [
            "Mounted at /content/gdrive\n"
          ]
        }
      ]
    },
    {
      "cell_type": "code",
      "execution_count": null,
      "metadata": {
        "id": "3jsAW72eu54D"
      },
      "outputs": [],
      "source": [
        "batch_size = 256\n",
        "lr = 0.3*batch_size/256\n",
        "start_epoch=0\n",
        "max_epoch=301\n",
        "optimizer= torch.optim.SGD(net.parameters(), lr)"
      ]
    },
    {
      "cell_type": "code",
      "source": [
        "net.base_encoder.linear.weight"
      ],
      "metadata": {
        "colab": {
          "base_uri": "https://localhost:8080/"
        },
        "id": "gn7XkiQSOqvB",
        "outputId": "ab80db40-fe4a-4fff-b187-a6d991b1b61f"
      },
      "execution_count": null,
      "outputs": [
        {
          "output_type": "execute_result",
          "data": {
            "text/plain": [
              "Parameter containing:\n",
              "tensor([[ 0.0080,  0.0205, -0.0011,  ...,  0.0073,  0.0112, -0.0113],\n",
              "        [ 0.0018, -0.0025,  0.0120,  ..., -0.0013, -0.0003,  0.0054],\n",
              "        [ 0.0212,  0.0079, -0.0061,  ...,  0.0123, -0.0085, -0.0145],\n",
              "        ...,\n",
              "        [ 0.0206,  0.0031, -0.0075,  ..., -0.0042, -0.0021, -0.0010],\n",
              "        [ 0.0197,  0.0128,  0.0189,  ..., -0.0158,  0.0193, -0.0130],\n",
              "        [-0.0181, -0.0114,  0.0014,  ...,  0.0198,  0.0206,  0.0031]],\n",
              "       device='cuda:0', requires_grad=True)"
            ]
          },
          "metadata": {},
          "execution_count": 15
        }
      ]
    },
    {
      "cell_type": "code",
      "execution_count": null,
      "metadata": {
        "id": "TTKBcHroH4kC",
        "colab": {
          "base_uri": "https://localhost:8080/"
        },
        "outputId": "ed8836c4-e716-486c-c9ca-cffd18a79f89"
      },
      "outputs": [
        {
          "output_type": "execute_result",
          "data": {
            "text/plain": [
              "<All keys matched successfully>"
            ]
          },
          "metadata": {},
          "execution_count": 16
        }
      ],
      "source": [
        "# Load the pre-trained model parameters\n",
        "\n",
        "\n",
        "# paramsend_save_name = 'paramsend_bs_restart.pt'\n",
        "# path_paramsend = \"/content/gdrive/MyDrive/paramsend_bs_restart.pt\"\n",
        "# checkpoint = torch.load(path_paramsend)\n",
        "# loss= checkpoint['loss']\n",
        "# epoch = checkpoint['epoch']\n",
        "\n",
        "# start_epoch=epoch+1\n",
        "# net.load_state_dict(checkpoint['net'])"
      ]
    },
    {
      "cell_type": "code",
      "source": [
        "# start_epoch"
      ],
      "metadata": {
        "id": "0amRdF9LUAoE",
        "colab": {
          "base_uri": "https://localhost:8080/"
        },
        "outputId": "8e77e4dd-3ddd-4782-9d08-28ef4a1155e5"
      },
      "execution_count": null,
      "outputs": [
        {
          "output_type": "execute_result",
          "data": {
            "text/plain": [
              "376"
            ]
          },
          "metadata": {},
          "execution_count": 17
        }
      ]
    },
    {
      "cell_type": "code",
      "source": [
        "net.base_encoder.linear.weight #after loading the model"
      ],
      "metadata": {
        "colab": {
          "base_uri": "https://localhost:8080/"
        },
        "id": "dm5x3tmSTTMf",
        "outputId": "57437d23-c8a0-4ca6-da18-543becd23a6d"
      },
      "execution_count": null,
      "outputs": [
        {
          "output_type": "execute_result",
          "data": {
            "text/plain": [
              "Parameter containing:\n",
              "tensor([[ 0.0094, -0.0010, -0.0135,  ...,  0.0019, -0.0039, -0.0014],\n",
              "        [-0.0129,  0.0169, -0.0109,  ...,  0.0089,  0.0045, -0.0145],\n",
              "        [-0.0147,  0.0171,  0.0130,  ..., -0.0009, -0.0001,  0.0168],\n",
              "        ...,\n",
              "        [-0.0061, -0.0062, -0.0099,  ..., -0.0090,  0.0017, -0.0123],\n",
              "        [ 0.0225, -0.0096, -0.0148,  ...,  0.0031,  0.0163, -0.0224],\n",
              "        [-0.0138, -0.0134, -0.0107,  ...,  0.0139,  0.0035,  0.0249]],\n",
              "       device='cuda:0', requires_grad=True)"
            ]
          },
          "metadata": {},
          "execution_count": 18
        }
      ]
    },
    {
      "cell_type": "code",
      "execution_count": null,
      "metadata": {
        "id": "evBab6cIVHVf"
      },
      "outputs": [],
      "source": [
        "def train(epoch):\n",
        "    print('\\nEpoch: %d' % epoch)\n",
        "    net.train()\n",
        "    s=0\n",
        "    tot_loss = 0\n",
        "    total = 0\n",
        "    batch_idx=0\n",
        "    i=0\n",
        "    batch_num =1\n",
        "    for batch_idx, (images, targets) in enumerate(trainloader):\n",
        "        print(\"in batch\", batch_num)\n",
        "        batch_num=batch_num+1\n",
        "        images[0], images[1], labels = images[0].to(device),images[1].to(device), targets.to(device)\n",
        "        optimizer.zero_grad()\n",
        "\n",
        "        h_i, h_j, z_i, z_j = net(images[0], images[1])\n",
        "        loss= criterion(z_i,z_j)\n",
        "\n",
        "        loss.backward()\n",
        "\n",
        "        optimizer.step()\n",
        "\n",
        "        tot_loss += loss.item()\n",
        "        print('batch loss', loss.item())\n",
        "\n",
        "    print(\"epoch loss=\",tot_loss)\n",
        "\n",
        "    if epoch % 25 ==0:\n",
        "        modelstate_save_name = 'modelstate_bs_restart_r.pt'\n",
        "        path_modelstate = F\"/content/gdrive/MyDrive/{modelstate_save_name}\" \n",
        "        torch.save(net.state_dict(), path_modelstate)\n",
        "\n",
        "        parameters_end = {\n",
        "            'net': net.state_dict(),\n",
        "            'epoch': epoch,\n",
        "            'loss': tot_loss\n",
        "      }\n",
        "        paramsend_save_name = 'paramsend_bs_restart_r.pt'\n",
        "        path_paramsend = F\"/content/gdrive/MyDrive/{paramsend_save_name}\" \n",
        "        torch.save(parameters_end, path_paramsend)\n",
        "\n",
        "for epoch in range(start_epoch, start_epoch+max_epoch):\n",
        "  train(epoch)\n",
        "      "
      ]
    }
  ]
}